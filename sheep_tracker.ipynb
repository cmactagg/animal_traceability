{
 "cells": [
  {
   "cell_type": "code",
   "execution_count": null,
   "metadata": {
    "collapsed": false
   },
   "outputs": [],
   "source": [
    "import sys\n",
    "import sqlite3, csv\n",
    "from datetime import datetime as dt\n",
    "import datetime"
   ]
  },
  {
   "cell_type": "code",
   "execution_count": 1,
   "metadata": {
    "collapsed": false
   },
   "outputs": [
    {
     "name": "stderr",
     "output_type": "stream",
     "text": [
      "C:\\Users\\mtags\\Anaconda3\\lib\\site-packages\\IPython\\config.py:13: ShimWarning: The `IPython.config` package has been deprecated. You should import from traitlets.config instead.\n",
      "  \"You should import from traitlets.config instead.\", ShimWarning)\n",
      "C:\\Users\\mtags\\Anaconda3\\lib\\site-packages\\IPython\\utils\\traitlets.py:5: UserWarning: IPython.utils.traitlets has moved to a top-level traitlets package.\n",
      "  warn(\"IPython.utils.traitlets has moved to a top-level traitlets package.\")\n"
     ]
    }
   ],
   "source": [
    "%load_ext sql"
   ]
  },
  {
   "cell_type": "code",
   "execution_count": null,
   "metadata": {
    "collapsed": false
   },
   "outputs": [],
   "source": [
    "%%sql sqlite:///animal_tracker.db\n",
    "DROP TABLE IF EXISTS animal_tracker_raw;\n",
    "\n",
    "CREATE TABLE animal_tracker_raw ( \n",
    "    actual_lot_size INTEGER, \n",
    "    lot_tag_read_count INTEGER, \n",
    "    departure_cph TEXT, \n",
    "    destination TEXT, \n",
    "    read_location_cph TEXT, \n",
    "    lot_date DATE, \n",
    "    movement_type INTEGER, \n",
    "    animal_eid INTEGER, \n",
    "    flock_tag INTEGER, \n",
    "    tag_count INTEGER, \n",
    "    issue_cph TEXT, \n",
    "    issue_date DATE, \n",
    "    last_update DATE, \n",
    "    unique_lot_id INTEGER) "
   ]
  },
  {
   "cell_type": "markdown",
   "metadata": {},
   "source": [
    "# Import the data from csv file\n",
    "the cell below imports the raw data csv file into the **animal_tracker_raw** table.\n",
    "\n",
    "change the path & filename of the csv file as needed"
   ]
  },
  {
   "cell_type": "code",
   "execution_count": null,
   "metadata": {
    "collapsed": false
   },
   "outputs": [],
   "source": [
    "conn = sqlite3.connect(\"animal_tracker.db\")\n",
    "\n",
    "try:\n",
    "\n",
    "    conn.execute(\"delete from animal_tracker_raw\");\n",
    "\n",
    "    cur = conn.cursor()\n",
    "\n",
    "    with open('ExampleData_2016_09_08.xlsx - Relevant_EXAMPLE.csv') as openFile:\n",
    "        dr = csv.DictReader(openFile)    \n",
    "        to_db = [(i['Actual lot size'], \n",
    "                  i['lot_tag_read_count'],\n",
    "                  i['departurecph'],\n",
    "                  i['destination'],\n",
    "                  i['ReadLocationCPH'],\n",
    "                  dt.strptime(i['LotDate'], '%m/%d/%Y'),\n",
    "                  i['MovementType'],\n",
    "                  i['AnimalEID'],\n",
    "                  i['Flock_tag'],\n",
    "                  i['Tag_count'],\n",
    "                  i['issue_cph'],\n",
    "                  dt.strptime(i['issue_date'], '%m/%d/%Y'),\n",
    "                  dt.strptime(i['latest_update'], '%m/%d/%Y'),\n",
    "                  i['UniqueLotID']\n",
    "                 ) for i in dr]\n",
    "        #print(to_db)\n",
    "        for i in to_db:\n",
    "            cur.execute(\"\"\"\n",
    "            INSERT INTO animal_tracker_raw (\n",
    "            actual_lot_size,\n",
    "            lot_tag_read_count,\n",
    "            departure_cph,\n",
    "            destination,\n",
    "            read_location_cph,\n",
    "            lot_date,\n",
    "            movement_type,\n",
    "            animal_eid,\n",
    "            flock_tag,\n",
    "            tag_count,\n",
    "            issue_cph,\n",
    "            issue_date,\n",
    "            last_update,\n",
    "            unique_lot_id \n",
    "            ) VALUES (?, ?, ?, ?, ?, ?, ?, ?, ?, ?, ?, ?, ?, ?);\n",
    "\n",
    "            \"\"\", i)\n",
    "        \n",
    "    conn.commit()\n",
    "\n",
    "except:\n",
    "    print(\"Unexpected error:\", sys.exc_info()[0])\n",
    "else:\n",
    "    conn.close()\n",
    "\n",
    "print(\"done\")"
   ]
  },
  {
   "cell_type": "markdown",
   "metadata": {},
   "source": [
    "### data columns \n",
    "actual_lot_size - the size of the lot that the animal belongs to (a group as they go to a desitination)?\n",
    "lot_tag_read_count - the count of animals, within the lot, whose tag was read at the read_location_cph?\n",
    "departure_cph - where the animal was before the reading location\n",
    "destination_cph - the location where the animal is going next (a farm, a slaughter house, a shipping port, may leave the system)? after the read location\n",
    "read_location_cph - the location where the animals tag was read for this record (often at a livestock or similar 3rd party)?\n",
    "lot_date - the date the tag was read for this animal for this record?\n",
    "movement_type - some detail about the departure and desitination - farm to farm, farm to slaughter, farm to port? This help identify that the animal has left the system (because it was killed at a slaughter)\n",
    "animal_eid - the unique identifier for an animal?\n",
    "flock_tag - a single tag of a full flock/lot - not individual sheep\n",
    "tag_count - associated with flock tag, the number of animals scanned within the flock with the same flock tag\n",
    "issue_cph - birth farm of animal, where the tag was issued to the animal\n",
    "issue_date - date the animal got the tag for the issue_cph\n",
    "last_update - ???\n",
    "unique_lot_id - exactly\n",
    "\n",
    "cph (county/perish/holding)\n",
    "\n",
    "\n",
    "patient zero tracking\n",
    "tracking window is to see when the disese started and likely ended\n",
    "the slower the disease moves, the larger the window\n",
    "\n",
    "network analysis\n",
    "degrees of fredom\n",
    "\n",
    "\n",
    "the result is all the sheep that the animal of interest was in contact with\n",
    "    possibley of showing a weight of how long they were in contact\n",
    "    show other animals current location (last scan)\n",
    "    show on a pretty graph that is easy to understand\n",
    "    \n",
    "Also need to identify when a sheep disappeared from the system (due to lack of scanning)\n",
    "\n",
    "\n",
    "\n"
   ]
  },
  {
   "cell_type": "code",
   "execution_count": null,
   "metadata": {
    "collapsed": false
   },
   "outputs": [],
   "source": [
    "%%sql sqlite:///animal_tracker.db\n",
    "\n",
    "select * from animal_tracker_raw"
   ]
  },
  {
   "cell_type": "markdown",
   "metadata": {
    "collapsed": true
   },
   "source": [
    "# sheep location duration\n",
    "below is made-up data as an example of how the raw data should be transformed (TBD)"
   ]
  },
  {
   "cell_type": "code",
   "execution_count": null,
   "metadata": {
    "collapsed": false
   },
   "outputs": [],
   "source": [
    "%%sql sqlite:///animal_tracker.db\n",
    "DROP TABLE IF EXISTS animal_location;\n",
    "\n",
    "CREATE TABLE animal_location(animal_eid INTEGER, location_cph VARCHAR(16), arrival_date DATE, departure_date DATE);\n"
   ]
  },
  {
   "cell_type": "code",
   "execution_count": null,
   "metadata": {
    "collapsed": false
   },
   "outputs": [],
   "source": [
    "%%sql sqlite:///animal_tracker.db\n",
    "DELETE FROM animal_location;\n",
    "INSERT INTO animal_location VALUES (\"s1\", \"l1\", \"2016-01-01 12:00:00.000\", \"2016-02-01 00:00:00.000\");\n",
    "INSERT INTO animal_location VALUES (\"s1\", \"l2\", \"2016-02-01 12:00:00.000\", \"2016-05-01 00:00:00.000\");\n",
    "\n",
    "INSERT INTO animal_location VALUES (\"s2\", \"l2\", \"2016-01-01 12:00:00.000\", \"2016-03-01 00:00:00.000\");\n",
    "INSERT INTO animal_location VALUES (\"s2\", \"l3\", \"2016-03-01 12:00:00.000\", \"2016-05-01 00:00:00.000\");\n",
    "\n",
    "INSERT INTO animal_location VALUES (\"s3\", \"l3\", \"2016-01-01 12:00:00.000\", \"2016-04-01 00:00:00.000\");\n",
    "INSERT INTO animal_location VALUES (\"s3\", \"l4\", \"2016-04-01 12:00:00.000\", \"2016-05-01 00:00:00.000\");\n",
    "\n",
    "INSERT INTO animal_location VALUES (\"s4\", \"l4\", \"2016-01-01 12:00:00.000\", \"2016-05-01 00:00:00.000\");\n",
    "\n",
    "INSERT INTO animal_location VALUES (\"s5\", \"l4\", \"2016-01-01 12:00:00.000\", \"2016-02-01 00:00:00.000\");\n",
    "INSERT INTO animal_location VALUES (\"s5\", \"l1\", \"2016-02-01 12:00:00.000\", \"2016-05-01 00:00:00.000\");\n",
    "\n"
   ]
  },
  {
   "cell_type": "code",
   "execution_count": 32,
   "metadata": {
    "collapsed": false
   },
   "outputs": [
    {
     "name": "stdout",
     "output_type": "stream",
     "text": [
      "Done.\n"
     ]
    },
    {
     "data": {
      "text/html": [
       "<table>\n",
       "    <tr>\n",
       "        <th>animal_eid</th>\n",
       "        <th>location_cph</th>\n",
       "        <th>arrival_date</th>\n",
       "        <th>departure_date</th>\n",
       "    </tr>\n",
       "    <tr>\n",
       "        <td>s1</td>\n",
       "        <td>l1</td>\n",
       "        <td>2016-01-01 12:00:00.000</td>\n",
       "        <td>2016-02-01 00:00:00.000</td>\n",
       "    </tr>\n",
       "    <tr>\n",
       "        <td>s1</td>\n",
       "        <td>l2</td>\n",
       "        <td>2016-02-01 12:00:00.000</td>\n",
       "        <td>2016-05-01 00:00:00.000</td>\n",
       "    </tr>\n",
       "    <tr>\n",
       "        <td>s2</td>\n",
       "        <td>l2</td>\n",
       "        <td>2016-01-01 12:00:00.000</td>\n",
       "        <td>2016-03-01 00:00:00.000</td>\n",
       "    </tr>\n",
       "    <tr>\n",
       "        <td>s2</td>\n",
       "        <td>l3</td>\n",
       "        <td>2016-03-01 12:00:00.000</td>\n",
       "        <td>2016-05-01 00:00:00.000</td>\n",
       "    </tr>\n",
       "    <tr>\n",
       "        <td>s3</td>\n",
       "        <td>l3</td>\n",
       "        <td>2016-01-01 12:00:00.000</td>\n",
       "        <td>2016-04-01 00:00:00.000</td>\n",
       "    </tr>\n",
       "    <tr>\n",
       "        <td>s3</td>\n",
       "        <td>l4</td>\n",
       "        <td>2016-04-01 12:00:00.000</td>\n",
       "        <td>2016-05-01 00:00:00.000</td>\n",
       "    </tr>\n",
       "    <tr>\n",
       "        <td>s4</td>\n",
       "        <td>l4</td>\n",
       "        <td>2016-01-01 12:00:00.000</td>\n",
       "        <td>2016-05-01 00:00:00.000</td>\n",
       "    </tr>\n",
       "    <tr>\n",
       "        <td>s5</td>\n",
       "        <td>l4</td>\n",
       "        <td>2016-01-01 12:00:00.000</td>\n",
       "        <td>2016-02-01 00:00:00.000</td>\n",
       "    </tr>\n",
       "    <tr>\n",
       "        <td>s5</td>\n",
       "        <td>l1</td>\n",
       "        <td>2016-02-01 12:00:00.000</td>\n",
       "        <td>2016-05-01 00:00:00.000</td>\n",
       "    </tr>\n",
       "</table>"
      ],
      "text/plain": [
       "[('s1', 'l1', '2016-01-01 12:00:00.000', '2016-02-01 00:00:00.000'),\n",
       " ('s1', 'l2', '2016-02-01 12:00:00.000', '2016-05-01 00:00:00.000'),\n",
       " ('s2', 'l2', '2016-01-01 12:00:00.000', '2016-03-01 00:00:00.000'),\n",
       " ('s2', 'l3', '2016-03-01 12:00:00.000', '2016-05-01 00:00:00.000'),\n",
       " ('s3', 'l3', '2016-01-01 12:00:00.000', '2016-04-01 00:00:00.000'),\n",
       " ('s3', 'l4', '2016-04-01 12:00:00.000', '2016-05-01 00:00:00.000'),\n",
       " ('s4', 'l4', '2016-01-01 12:00:00.000', '2016-05-01 00:00:00.000'),\n",
       " ('s5', 'l4', '2016-01-01 12:00:00.000', '2016-02-01 00:00:00.000'),\n",
       " ('s5', 'l1', '2016-02-01 12:00:00.000', '2016-05-01 00:00:00.000')]"
      ]
     },
     "execution_count": 32,
     "metadata": {},
     "output_type": "execute_result"
    }
   ],
   "source": [
    "%%sql sqlite:///animal_tracker.db\n",
    "SELECT * FROM animal_location;"
   ]
  },
  {
   "cell_type": "markdown",
   "metadata": {},
   "source": [
    "# end sheep location duration"
   ]
  },
  {
   "cell_type": "markdown",
   "metadata": {},
   "source": [
    "## algorithm to find affected sheep"
   ]
  },
  {
   "cell_type": "code",
   "execution_count": 2,
   "metadata": {
    "collapsed": false
   },
   "outputs": [
    {
     "name": "stdout",
     "output_type": "stream",
     "text": [
      "Done.\n",
      "Done.\n"
     ]
    },
    {
     "data": {
      "text/plain": [
       "[]"
      ]
     },
     "execution_count": 2,
     "metadata": {},
     "output_type": "execute_result"
    }
   ],
   "source": [
    "%%sql sqlite:///animal_tracker.db\n",
    "DROP TABLE IF EXISTS exposure_incident;\n",
    "CREATE TABLE exposure_incident ( \n",
    "    giver_animal_eid INTEGER, \n",
    "    location_cph VARCHAR(16), \n",
    "    location_exposure_date TIMESTAMP, \n",
    "    receiver_animal_eid INTEGER, \n",
    "    animal_exposure_date TIMESTAMP \n",
    ");\n"
   ]
  },
  {
   "cell_type": "code",
   "execution_count": 3,
   "metadata": {
    "collapsed": false
   },
   "outputs": [
    {
     "name": "stdout",
     "output_type": "stream",
     "text": [
      "giver_animal_eid\tlocation_cph\tlocation_exposure_date\treceiver_animal_eid\tanimal_exposure_date\n",
      "None\tNone\tNone\ts1\t2016-02-01 00:00:00.000\n",
      "s1\tl2\t2016-02-01 12:00:00.000\ts2\t2016-02-01 12:00:00.000\n",
      "s1\tl1\t2016-02-01 00:00:00.000\ts5\t2016-02-01 12:00:00.000\n",
      "s2\tl3\t2016-03-01 12:00:00.000\ts3\t2016-03-01 12:00:00.000\n",
      "s3\tl4\t2016-04-01 12:00:00.000\ts4\t2016-04-01 12:00:00.000\n"
     ]
    }
   ],
   "source": [
    "import sys\n",
    "import sqlite3, csv\n",
    "import copy\n",
    "from datetime import datetime as dt\n",
    "import datetime\n",
    "\n",
    "dbpath = \"animal_tracker.db\"\n",
    "\n",
    "def process_exposures():\n",
    "    isNewRecordsCreated = False\n",
    "    results_ei_giver = conn.execute(\"SELECT * FROM exposure_incident\")            \n",
    "    for row_giver in results_ei_giver.fetchall():\n",
    "        #print(row_giver['receiver_animal_eid'] + \"\\t\" + row_giver['animal_exposure_date'])\n",
    "\n",
    "        results_ei_receiver = conn.execute(\" \\\n",
    "            select locq.giver_animal_eid, locq.location_cph, locq.location_exposure_date, shpq.animal_eid as receiver_animal_eid, \\\n",
    "                CASE WHEN arrival_date > locq.location_exposure_date then arrival_date else locq.location_exposure_date end AS animal_exposure_date from animal_location shpq, \\\n",
    "            (select animal_eid as giver_animal_eid, location_cph, min(CASE WHEN arrival_date > ? then arrival_date else ? end) AS location_exposure_date \\\n",
    "            from animal_location where animal_eid = ? and departure_date >= ? GROUP BY animal_eid, location_cph) as locq \\\n",
    "            where shpq.location_cph = locq.location_cph and shpq.departure_date > locq.location_exposure_date\", \\\n",
    "            (row_giver['animal_exposure_date'], row_giver['animal_exposure_date'], row_giver['receiver_animal_eid'], row_giver['animal_exposure_date'], ))\n",
    "        for row_receiver in results_ei_receiver:\n",
    "            #print(row_receiver[0] + \"\\t\" + row_receiver[1] + \"\\t\" + row_receiver[2] + \"\\t\" + row_receiver[3] + \"\\t\" + row_receiver[4])\n",
    "            \n",
    "            doInsertRecord = True\n",
    "            cursor = conn.cursor()\n",
    "            #check that the giver and receiver animal arent the same\n",
    "            if row_receiver['giver_animal_eid'] == row_receiver['receiver_animal_eid']:\n",
    "                doInsertRecord = False\n",
    "\n",
    "            #check that you arent exposing an animal that exposed you\n",
    "            cursor.execute( \\\n",
    "                \"SELECT giver_animal_eid FROM exposure_incident \\\n",
    "                WHERE giver_animal_eid = ? AND receiver_animal_eid = ? LIMIT 1\", \\\n",
    "                (row_receiver['receiver_animal_eid'], row_receiver['giver_animal_eid'],))\n",
    "            if cursor.fetchone() is not None:\n",
    "                doInsertRecord = False\n",
    "\n",
    "            #check to ensure record doesnt exist already\n",
    "            \n",
    "            cursor.execute( \\\n",
    "                \"SELECT giver_animal_eid FROM exposure_incident \\\n",
    "                WHERE giver_animal_eid = ? AND location_cph = ? AND location_exposure_date = ? AND receiver_animal_eid = ? AND animal_exposure_date = ? LIMIT 1\", \\\n",
    "                (row_receiver['giver_animal_eid'], row_receiver['location_cph'], row_receiver['location_exposure_date'], row_receiver['receiver_animal_eid'], row_receiver['animal_exposure_date'],))\n",
    "            if cursor.fetchone() is not None:\n",
    "                doInsertRecord = False\n",
    "\n",
    "            if doInsertRecord:\n",
    "                conn.execute(\"INSERT INTO exposure_incident (giver_animal_eid, location_cph, location_exposure_date, receiver_animal_eid, animal_exposure_date) VALUES (?, ?, ?, ?, ?)\", \\\n",
    "                    (row_receiver['giver_animal_eid'], row_receiver['location_cph'], row_receiver['location_exposure_date'], row_receiver['receiver_animal_eid'], row_receiver['animal_exposure_date'],))\n",
    "                isNewRecordsCreated = True\n",
    "            cursor.close()\n",
    "            if isNewRecordsCreated:\n",
    "                process_exposures()\n",
    "    return \n",
    "\n",
    "\n",
    "conn = sqlite3.connect(dbpath)\n",
    "conn.row_factory = sqlite3.Row\n",
    "try:\n",
    "\n",
    "    conn.execute(\"DELETE FROM exposure_incident\")\n",
    "    conn.execute(\"INSERT INTO exposure_incident (receiver_animal_eid, animal_exposure_date) VALUES (?, ?)\", ('s1', '2016-02-01 00:00:00.000',))\n",
    "\n",
    "    process_exposures()\n",
    "    \n",
    "    print(\"giver_animal_eid\" + \"\\t\" + \"location_cph\" + \"\\t\" + \"location_exposure_date\" + \"\\t\" + \"receiver_animal_eid\" + \"\\t\" + \"animal_exposure_date\")\n",
    "    results_ei_final = conn.execute(\"SELECT * FROM exposure_incident\")            \n",
    "    for row in results_ei_final:\n",
    "        print(str(row['giver_animal_eid']) + \"\\t\" + str(row['location_cph']) + \"\\t\" + str(row['location_exposure_date']) + \"\\t\" + str(row['receiver_animal_eid']) + \"\\t\" + str(row['animal_exposure_date']))\n",
    "    \n",
    "except:\n",
    "    print(\"Unexpected error:\", sys.exc_info()[0])\n",
    "else:\n",
    "    conn.commit() \n",
    "    conn.close()\n"
   ]
  },
  {
   "cell_type": "code",
   "execution_count": 4,
   "metadata": {
    "collapsed": false
   },
   "outputs": [
    {
     "name": "stdout",
     "output_type": "stream",
     "text": [
      "Done.\n"
     ]
    },
    {
     "data": {
      "text/html": [
       "<table>\n",
       "    <tr>\n",
       "        <th>giver_animal_eid</th>\n",
       "        <th>location_cph</th>\n",
       "        <th>location_exposure_date</th>\n",
       "        <th>receiver_animal_eid</th>\n",
       "        <th>animal_exposure_date</th>\n",
       "    </tr>\n",
       "    <tr>\n",
       "        <td>None</td>\n",
       "        <td>None</td>\n",
       "        <td>None</td>\n",
       "        <td>s1</td>\n",
       "        <td>2016-02-01 00:00:00.000</td>\n",
       "    </tr>\n",
       "    <tr>\n",
       "        <td>s1</td>\n",
       "        <td>l2</td>\n",
       "        <td>2016-02-01 12:00:00.000</td>\n",
       "        <td>s2</td>\n",
       "        <td>2016-02-01 12:00:00.000</td>\n",
       "    </tr>\n",
       "    <tr>\n",
       "        <td>s1</td>\n",
       "        <td>l1</td>\n",
       "        <td>2016-02-01 00:00:00.000</td>\n",
       "        <td>s5</td>\n",
       "        <td>2016-02-01 12:00:00.000</td>\n",
       "    </tr>\n",
       "    <tr>\n",
       "        <td>s2</td>\n",
       "        <td>l3</td>\n",
       "        <td>2016-03-01 12:00:00.000</td>\n",
       "        <td>s3</td>\n",
       "        <td>2016-03-01 12:00:00.000</td>\n",
       "    </tr>\n",
       "    <tr>\n",
       "        <td>s3</td>\n",
       "        <td>l4</td>\n",
       "        <td>2016-04-01 12:00:00.000</td>\n",
       "        <td>s4</td>\n",
       "        <td>2016-04-01 12:00:00.000</td>\n",
       "    </tr>\n",
       "</table>"
      ],
      "text/plain": [
       "[(None, None, None, 's1', '2016-02-01 00:00:00.000'),\n",
       " ('s1', 'l2', '2016-02-01 12:00:00.000', 's2', '2016-02-01 12:00:00.000'),\n",
       " ('s1', 'l1', '2016-02-01 00:00:00.000', 's5', '2016-02-01 12:00:00.000'),\n",
       " ('s2', 'l3', '2016-03-01 12:00:00.000', 's3', '2016-03-01 12:00:00.000'),\n",
       " ('s3', 'l4', '2016-04-01 12:00:00.000', 's4', '2016-04-01 12:00:00.000')]"
      ]
     },
     "execution_count": 4,
     "metadata": {},
     "output_type": "execute_result"
    }
   ],
   "source": [
    "%%sql sqlite:///animal_tracker.db\n",
    "select * from exposure_incident;"
   ]
  },
  {
   "cell_type": "code",
   "execution_count": 3,
   "metadata": {
    "collapsed": false
   },
   "outputs": [
    {
     "name": "stdout",
     "output_type": "stream",
     "text": [
      "736085.0\n",
      "{'s1->s2': (735995.5, 2), 's2->s3': (736024.5, 3), 's3->s4': (736055.5, 4), 's1->s5': (735995.5, 1)}\n",
      "{'l3': 3, 'l1': 1, 'l4': 4, 'l2': 2}\n",
      "['l1', 'l2', 'l3', 'l4']\n",
      "[1, 2, 3, 4]\n",
      "[735995.0, 735995.5, 736024.5, 736055.5]\n",
      "[90.0, 89.5, 60.5, 29.5]\n"
     ]
    },
    {
     "data": {
      "image/png": "[encoded data removed]",
      "text/plain": [
       "<matplotlib.figure.Figure at 0x25dce803fd0>"
      ]
     },
     "metadata": {},
     "output_type": "display_data"
    }
   ],
   "source": [
    "%matplotlib inline\n",
    "\n",
    "import sys\n",
    "import sqlite3\n",
    "import matplotlib.pyplot as plt\n",
    "import numpy as np\n",
    "import matplotlib.dates as mdates\n",
    "from datetime import datetime as dt\n",
    "\n",
    "\n",
    "conn = sqlite3.connect(\"animal_tracker.db\")\n",
    "#conn.row_factory = sqlite3.Row\n",
    "#giver_animal_eid\tlocation_cph\tlocation_exposure_date\treceiver_animal_eid\tanimal_exposure_date\n",
    "\n",
    "\n",
    "results_max_departure_date = conn.execute(\"SELECT max(departure_date) FROM animal_location\")\n",
    "for row_max_departure_date in results_max_departure_date:\n",
    "    max_departure_date = mdates.date2num(dt.strptime(row_max_departure_date[0], '%Y-%m-%d %H:%M:%S.%f')) \n",
    "print(max_departure_date)\n",
    "\n",
    "location_names_values = {}\n",
    "\n",
    "## find the locations\n",
    "results_loc_exp = conn.execute(\"SELECT location_cph, min(location_exposure_date) FROM exposure_incident WHERE location_cph != 'None' GROUP BY location_cph ORDER BY location_exposure_date\")\n",
    "loc_labels = []\n",
    "loc_rows = []\n",
    "loc_startdates = []\n",
    "loc_left = []\n",
    "loc_enddates = []\n",
    "loc_row_count = 0\n",
    "for row_loc_exp in results_loc_exp:\n",
    "    loc_labels.append(row_loc_exp[0])\n",
    "    loc_row_count += 1\n",
    "    location_names_values[row_loc_exp[0]] = loc_row_count\n",
    "    loc_rows.append(loc_row_count)\n",
    "    loc_startdate = mdates.date2num(dt.strptime(row_loc_exp[1], '%Y-%m-%d %H:%M:%S.%f'))\n",
    "    loc_startdates.append(loc_startdate)\n",
    "        \n",
    "    loc_enddates.append(max_departure_date - loc_startdate)\n",
    "##end find the locations\n",
    "\n",
    "\n",
    "## find the animals\n",
    "results_animal_exp = conn.execute(\"SELECT giver_animal_eid, location_cph, receiver_animal_eid, animal_exposure_date FROM exposure_incident WHERE location_cph != 'None' ORDER BY animal_exposure_date\")\n",
    "giver_animal_eids = []\n",
    "receiver_animal_eids = []\n",
    "animal_exposure_dates = []\n",
    "animal_exposure_locs = []\n",
    "\n",
    "exposure_labels = {}\n",
    "for row_animal_exp in results_animal_exp:\n",
    "    animal_exposure_date = mdates.date2num(dt.strptime(row_animal_exp[3], '%Y-%m-%d %H:%M:%S.%f'))\n",
    "    animal_exposure_dates.append(animal_exposure_date)\n",
    "    animal_exposure_locs.append(location_names_values[row_animal_exp[1]])\n",
    "    exposure_labels[row_animal_exp[0] + \"->\" + row_animal_exp[2]] = (animal_exposure_date, location_names_values[row_animal_exp[1]])\n",
    "    #ax.annotate(row_animal_exp[0] + \"->\" + row_animal_exp[2], xy=(animal_exposure_date, location_names_values[row_animal_exp[1]]), textcoords='data')\n",
    "\n",
    "##end find the animals\n",
    "print(exposure_labels)\n",
    "    \n",
    "conn.close()\n",
    "\n",
    "print(location_names_values)\n",
    "\n",
    "print(loc_labels)\n",
    "print(loc_rows)\n",
    "print(loc_startdates)\n",
    "print(loc_enddates)\n",
    "\n",
    "\n",
    "fig, ax = plt.subplots()\n",
    "\n",
    "\n",
    "ax.plot(animal_exposure_dates, animal_exposure_locs, 'ro')\n",
    "ax.barh(loc_rows, loc_enddates, left=loc_startdates )\n",
    "\n",
    "for label in exposure_labels:\n",
    "    ax.annotate(label, xy=exposure_labels[label], textcoords='data')\n",
    "\n",
    "plt.yticks(loc_rows, loc_labels)\n",
    "\n",
    "ax.axis('tight')\n",
    "ax.xaxis_date()\n",
    "fig.autofmt_xdate()\n",
    "\n",
    "plt.show()"
   ]
  },
  {
   "cell_type": "markdown",
   "metadata": {},
   "source": [
    "# end algorithm to find affected sheep"
   ]
  },
  {
   "cell_type": "markdown",
   "metadata": {
    "collapsed": true
   },
   "source": [
    "# Below are cells that arent needed right now"
   ]
  },
  {
   "cell_type": "markdown",
   "metadata": {},
   "source": [
    "### Research\n",
    "Diffusion Model - Set of mathematical equations or formulas that attempts to estimate the spread of information (idea or rumor) or a contagious disease through a population.\n",
    "\n"
   ]
  },
  {
   "cell_type": "markdown",
   "metadata": {},
   "source": [
    "Below:\n",
    "Enter the date for time_of_interest yyyy mm dd\n",
    "This will query the data and return the records where the issue_date is between the time_of_interest and the time_of_interest + 28 days\n",
    "It then randomly selects one of the returned records"
   ]
  },
  {
   "cell_type": "code",
   "execution_count": null,
   "metadata": {
    "collapsed": false
   },
   "outputs": [],
   "source": [
    "from random import randint\n",
    "\n",
    "time_of_interest = datetime.date(2011, 9, 1)\n",
    "time_of_interest_end = time_of_interest + datetime.timedelta(days=28)\n",
    "\n",
    "conn = sqlite3.connect(dbpath)\n",
    "#\n",
    "c1 = conn.execute(\"SELECT * FROM sheep_tracker WHERE lot_date BETWEEN ? AND ?\", (time_of_interest, time_of_interest_end,))\n",
    "\n",
    "all_rows = c1.fetchall()\n",
    "rows_count = len(all_rows)\n",
    "if rows_count > 0:\n",
    "    random_row = all_rows[randint(0, rows_count - 1)]\n",
    "    print(random_row)\n",
    "    \n",
    "    if random_row[5] < : \n",
    "    \n",
    "    \n",
    "else:\n",
    "    print(\"no records found\")\n",
    "\n",
    "\n",
    "\n",
    "conn.close()"
   ]
  },
  {
   "cell_type": "code",
   "execution_count": null,
   "metadata": {
    "collapsed": false
   },
   "outputs": [],
   "source": [
    "from datetime import datetime as dt\n",
    "import datetime\n",
    "newd = dt.strptime('8/14/2010', '%m/%d/%Y')\n",
    "time_of_interest = datetime.date(2011, 9, 1)\n",
    "print(newd)\n",
    "print(time_of_interest)"
   ]
  },
  {
   "cell_type": "code",
   "execution_count": null,
   "metadata": {
    "collapsed": false
   },
   "outputs": [],
   "source": [
    "%sql sqlite:///C:\\\\Users\\\\mtags\\\\Desktop\\\\sheep.db\n",
    "#%sql delete from mydata\n",
    "%sql select animal_eid, count(*) from sheep_tracker GROUP BY animal_eid"
   ]
  },
  {
   "cell_type": "markdown",
   "metadata": {},
   "source": [
    "## questions\n",
    "1.  when selecting an animal within the time of interest, you want the records where the time_of_interest date range (TOI_start, TOI_end) overlaps with the animals time at a lot (lot_date, lot_date_end(need to find this based on next record) )  WHERE (lot_start < TIO_end AND lot_end >= TIO_start\n",
    "2.  maybe need more data as each animal is only in the data once.  Or I can make some up.\n",
    "3.  what will be the format of the outputs - fancy graphs or just data\n"
   ]
  },
  {
   "cell_type": "markdown",
   "metadata": {},
   "source": [
    "# Chris's algorithm\n",
    "\n",
    "1.  process raw data to show a sheepid, location, arrival date, departure date\n",
    "    * this is where some data can be fudged to estimate lost data\n",
    "2.  by selecting a sheep and a date range (disregarding the data outside of the range), determine which other sheep the primary sheep interacted with by matching locations and date overlaps\n",
    "3.  (optional) apply a weight to how closely related the other sheep were to the primary sheep\n",
    "    *  if sheep2 spent the whole date range with the primary sheep, then 1\n",
    "    *  if only spent half the time then 0.5\n",
    "    *  for each degree of separation the weight is further divided by 2 (* 0.5)\n",
    "4.  show in fancy chart"
   ]
  },
  {
   "cell_type": "code",
   "execution_count": null,
   "metadata": {
    "collapsed": false
   },
   "outputs": [],
   "source": [
    "#this was just used to fine tune my query to find exposure_incident\n",
    "%sql sqlite:///C:\\\\Users\\\\mtags\\\\Desktop\\\\sheep.db\n",
    "\n",
    "%sql select locq.*, shpq.animal_eid as animal_eid_receiver, CASE WHEN arrival_date > locq.loc_exposure_date then arrival_date else locq.loc_exposure_date end AS animal_exposure_date from sheep_location shpq, \\\n",
    "    (select animal_eid as animal_eid_giver, location_cph, min(CASE WHEN arrival_date > '2016-02-01' then arrival_date else '2016-02-01' end) AS loc_exposure_date \\\n",
    "    from sheep_location where animal_eid = 's1' and departure_date >= '2016-02-01' GROUP BY animal_eid, location_cph) as locq \\\n",
    "    where shpq.location_cph = locq.location_cph and shpq.departure_date > locq.loc_exposure_date;\n",
    "\n",
    "# %sql select *, location_cph, min(CASE WHEN arrival_date > '2016-02-01' then arrival_date else '2016-02-01' end) AS exposure_date \\\n",
    "#     from sheep_location where animal_eid = 's1' and departure_date >= '2016-02-01' ;\n"
   ]
  },
  {
   "cell_type": "code",
   "execution_count": null,
   "metadata": {
    "collapsed": false
   },
   "outputs": [],
   "source": [
    "%sql sqlite:///C:\\\\Users\\\\mtags\\\\Desktop\\\\sheep.db\n",
    "\n",
    "        \n",
    "# %sql select * from sheep_location\n",
    "\n",
    "\n",
    "%sql  select locq.giver_animal_eid, locq.location_cph, locq.location_exposure_date, shpq.animal_eid as receiver_animal_eid, CASE WHEN arrival_date > locq.location_exposure_date then arrival_date else locq.location_exposure_date end AS animal_exposure_date from sheep_location shpq, \\\n",
    "            (select animal_eid as giver_animal_eid, location_cph, min(CASE WHEN arrival_date > '2016-04-01 12:00:00.000' then arrival_date else '2016-04-01 12:00:00.000' end) AS location_exposure_date \\\n",
    "            from sheep_location where animal_eid = 's4' and departure_date >= '2016-04-01 12:00:00.000' GROUP BY animal_eid, location_cph) as locq \\\n",
    "            where shpq.location_cph = locq.location_cph and shpq.departure_date > locq.location_exposure_date\n",
    "        \n",
    "# %sql select animal_eid as giver_animal_eid, location_cph, min(CASE WHEN arrival_date > '2016-02-01 00:00:00.000' then arrival_date else '2016-02-01 00:00:00.000' end) AS location_exposure_date \\\n",
    "#             from sheep_location where animal_eid = 's1' and departure_date >= '2016-02-01 00:00:00.000' GROUP BY animal_eid, location_cph\n",
    "    \n",
    "# %sql select * from sheep_location \\\n",
    "#     where departure_date >= '2016-02-01 00:00:00.000'"
   ]
  },
  {
   "cell_type": "code",
   "execution_count": null,
   "metadata": {
    "collapsed": false
   },
   "outputs": [],
   "source": [
    "#I think this is an old algorithm but want to hand onto it just in case 2016-09-21 14:46\n",
    "\n",
    "def dosomething(conn, infected_sheeps):\n",
    "    print(\"entering dosomething\")\n",
    "    new_rec_found = False\n",
    "    infected_loc_dict = {}\n",
    "    # 1. identify the infected sheep\n",
    "    for infected_sheep in infected_sheeps:\n",
    "        # 2. store all the locations that the infected sheep(s) was at and the date range that the location was infected\n",
    "        \n",
    "        results = conn.execute( \\\n",
    "            \"SELECT location_cph, min(arrival_date) FROM sheep_location WHERE animal_eid = ? AND departure_date >= ? GROUP BY location_cph\", \\\n",
    "                (infected_sheep, infected_sheeps[infected_sheep]))\n",
    "        for row in results:\n",
    "            infected_loc_dict[row[0]] = row[1];\n",
    "            \n",
    "\n",
    "    print(infected_loc_dict)    \n",
    "    #infected_sheeps = {};\n",
    "# 3. search all sheep for the infected location/time range\n",
    "    for loc in infected_loc_dict:\n",
    "        #print(loc + \" \" + infected_loc_dict[loc])\n",
    "        resultsR2 = conn.execute(\\\n",
    "            \"SELECT animal_eid, min(arrival_date) FROM sheep_location WHERE location_cph = ? AND departure_date >= ? GROUP BY animal_eid\", \\\n",
    "                (loc, infected_loc_dict[loc],))\n",
    "        \n",
    "        #print('aaa' + str(infected_sheeps))\n",
    "        for rowR2 in resultsR2:\n",
    "            print('ddd' + str(rowR2))\n",
    "            if rowR2[0] not in infected_sheeps or infected_sheeps[rowR2[0]] > rowR2[1]:\n",
    "                #print(str(rowR2[0] not in infected_sheeps))                \n",
    "                #if rowR2[0] in infected_sheeps:\n",
    "                    #print('\\t' + str(infected_sheeps[rowR2[0]] > rowR2[1]))\n",
    "                \n",
    "                infected_sheeps[rowR2[0]] = rowR2[1]                \n",
    "                new_rec_found = True\n",
    "    if new_rec_found:\n",
    "        print(infected_sheeps)\n",
    "        infected_sheeps = dosomething(conn, infected_sheeps)\n",
    "            \n",
    "    return infected_sheeps\n",
    "\n",
    "\n",
    "\n",
    "connX = sqlite3.connect(dbpath)\n",
    "\n",
    "#try:\n",
    "#d = datetime.date(2016, 1, 1)\n",
    "s = '2016-04-01'\n",
    "print(d)\n",
    "infected_sheeps = {'s1': s}\n",
    "\n",
    "infected_sheeps_result = dosomething(connX, infected_sheeps)\n",
    "print(infected_sheeps_result)\n",
    "#except:\n",
    "print(\"Unexpected error:\", sys.exc_info()[0])\n",
    "#else:\n",
    "connX.close()\n"
   ]
  },
  {
   "cell_type": "code",
   "execution_count": null,
   "metadata": {
    "collapsed": false
   },
   "outputs": [],
   "source": [
    "from IPython.core.display import display, HTML\n",
    "display(HTML('<span style=\"color:red;\">Hello, world!</span>'))"
   ]
  },
  {
   "cell_type": "code",
   "execution_count": null,
   "metadata": {
    "collapsed": false
   },
   "outputs": [],
   "source": [
    "%matplotlib inline\n",
    "\n",
    "import matplotlib.pyplot as plt\n",
    "plt.plot([2, 3, 2], [4, 4, 2], 'r^:')\n",
    "plt.plot([1, 2, 3], [1, 2, 3], 'gs-')\n",
    "plt.axis([0, 5, 0, 10])\n",
    "plt.ylabel('some numbers')\n",
    "plt.show()"
   ]
  },
  {
   "cell_type": "code",
   "execution_count": null,
   "metadata": {
    "collapsed": true
   },
   "outputs": [],
   "source": []
  }
 ],
 "metadata": {
  "anaconda-cloud": {},
  "kernelspec": {
   "display_name": "Python [Root]",
   "language": "python",
   "name": "Python [Root]"
  },
  "language_info": {
   "codemirror_mode": {
    "name": "ipython",
    "version": 3
   },
   "file_extension": ".py",
   "mimetype": "text/x-python",
   "name": "python",
   "nbconvert_exporter": "python",
   "pygments_lexer": "ipython3",
   "version": "3.5.2"
  }
 },
 "nbformat": 4,
 "nbformat_minor": 0
}
